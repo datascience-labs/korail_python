{
  "nbformat": 4,
  "nbformat_minor": 0,
  "metadata": {
    "colab": {
      "provenance": []
    },
    "kernelspec": {
      "name": "python3",
      "display_name": "Python 3"
    },
    "language_info": {
      "name": "python"
    }
  },
  "cells": [
    {
      "cell_type": "code",
      "execution_count": null,
      "metadata": {
        "id": "VoFNUmz_gJhq"
      },
      "outputs": [],
      "source": [
        "# 가상의 지연 정보 데이터 (열차번호, 지연시간 in 분)\n",
        "지연_정보 = [\n",
        "    {\"열차번호\": \"KTX101\", \"지연시간\": 3},\n",
        "    {\"열차번호\": \"KTX202\", \"지연시간\": 12},\n",
        "    {\"열차번호\": \"무궁화123\", \"지연시간\": 0},\n",
        "    {\"열차번호\": \"KTX303\", \"지연시간\": 7},\n",
        "    {\"열차번호\": \"누리로11\", \"지연시간\": 20},\n",
        "]\n",
        "\n",
        "# 등급 기준\n",
        "# - 10분 이상 지연: '경고'\n",
        "# - 5분 미만: '정상'\n",
        "\n",
        "# 자동 분류\n",
        "for info in 지연_정보:\n",
        "    시간 = info[\"지연시간\"]\n",
        "\n",
        "    if 시간 >= 10:\n",
        "        등급 = \"🚨 경고\"\n",
        "    else:\n",
        "        등급 = \"✅ 정상\"\n",
        "\n",
        "    print(f\"[{info['열차번호']}] 지연: {시간}분 → 등급: {등급}\")\n"
      ]
    }
  ]
}
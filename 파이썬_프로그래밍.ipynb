{
  "nbformat": 4,
  "nbformat_minor": 0,
  "metadata": {
    "colab": {
      "provenance": []
    },
    "kernelspec": {
      "name": "python3",
      "display_name": "Python 3"
    },
    "language_info": {
      "name": "python"
    }
  },
  "cells": [
    {
      "cell_type": "code",
      "source": [
        "print(\"파이썬 프로그래밍\")"
      ],
      "metadata": {
        "id": "4Qie6xPbe49e"
      },
      "execution_count": null,
      "outputs": []
    },
    {
      "cell_type": "markdown",
      "source": [
        "# 변수란?"
      ],
      "metadata": {
        "id": "lBK6zgiwicKF"
      }
    },
    {
      "cell_type": "code",
      "source": [
        "a = 100\n",
        "b = 200\n",
        "print(a)\n",
        "print(b)"
      ],
      "metadata": {
        "id": "gBA8_4ujfk8D"
      },
      "execution_count": null,
      "outputs": []
    },
    {
      "cell_type": "code",
      "source": [
        "c = a + b\n",
        "print(c)"
      ],
      "metadata": {
        "id": "rLhWWBmsgqX7"
      },
      "execution_count": null,
      "outputs": []
    },
    {
      "cell_type": "code",
      "source": [
        "num1 = 100\n",
        "num2 = 50\n",
        "result = num1 + num2"
      ],
      "metadata": {
        "id": "kdawDpFphG8b"
      },
      "execution_count": null,
      "outputs": []
    },
    {
      "cell_type": "code",
      "source": [
        "result = num1 + 200"
      ],
      "metadata": {
        "id": "a7XKbsnqhTCa"
      },
      "execution_count": null,
      "outputs": []
    },
    {
      "cell_type": "code",
      "source": [
        "100 = num1 + num2"
      ],
      "metadata": {
        "id": "wSexglVMhZ7K"
      },
      "execution_count": null,
      "outputs": []
    },
    {
      "cell_type": "code",
      "source": [
        "str1 = \"한국철도공사\"\n",
        "str2 = \"파이팅!\"\n",
        "print(str1)\n",
        "print(str2)"
      ],
      "metadata": {
        "id": "-822I4yzhgJp"
      },
      "execution_count": null,
      "outputs": []
    },
    {
      "cell_type": "code",
      "source": [
        "str3 = str1 + \" \" + str2\n",
        "print(str3)"
      ],
      "metadata": {
        "id": "udrNePUGhtJ6"
      },
      "execution_count": null,
      "outputs": []
    },
    {
      "cell_type": "code",
      "source": [
        "result = str1 - str2\n",
        "print(result)"
      ],
      "metadata": {
        "id": "W-2AqNC5hoQK"
      },
      "execution_count": null,
      "outputs": []
    },
    {
      "cell_type": "markdown",
      "source": [
        "# 변수 이릅 짓기"
      ],
      "metadata": {
        "id": "F-0YtYzfio0f"
      }
    },
    {
      "cell_type": "code",
      "source": [
        "a = 100\n",
        "a3 = 300\n",
        "a3b2 = 200\n",
        "print(a)\n",
        "print(a3)\n",
        "print(a3b2)"
      ],
      "metadata": {
        "id": "95CNaf_sh1HK"
      },
      "execution_count": null,
      "outputs": []
    },
    {
      "cell_type": "code",
      "source": [
        "3aa = 100"
      ],
      "metadata": {
        "id": "IV1QxMl0h9wa"
      },
      "execution_count": null,
      "outputs": []
    },
    {
      "cell_type": "code",
      "source": [
        "input_number = 100\n",
        "print(input_number)"
      ],
      "metadata": {
        "id": "QtsuVwXbiAK6"
      },
      "execution_count": null,
      "outputs": []
    },
    {
      "cell_type": "code",
      "source": [
        "mynum = 100\n",
        "Mynum = 200\n",
        "myNum = 300\n",
        "print(mynum)\n",
        "print(Mynum)\n",
        "print(myNum)"
      ],
      "metadata": {
        "id": "jvj_9gOdiEdq"
      },
      "execution_count": null,
      "outputs": []
    },
    {
      "cell_type": "markdown",
      "source": [
        "# 조건문"
      ],
      "metadata": {
        "id": "nLp-qAYuix6M"
      }
    },
    {
      "cell_type": "code",
      "source": [
        "a = 99\n",
        "if a < 100 :\n",
        "  print(\"100보다 작군요.\")"
      ],
      "metadata": {
        "id": "kegct5zBi0n5"
      },
      "execution_count": null,
      "outputs": []
    },
    {
      "cell_type": "code",
      "source": [
        "a = 200\n",
        "if a < 100 :\n",
        "  print(\"100보다 작군요.\")\n",
        "else:\n",
        "  print(\"100보다 크군요.\")"
      ],
      "metadata": {
        "id": "fgMlxznBizTT"
      },
      "execution_count": null,
      "outputs": []
    },
    {
      "cell_type": "code",
      "source": [
        "a = 75\n",
        "\n",
        "if a > 50:\n",
        "    if a < 100:\n",
        "        print(\"50보다 크고 100보다 작군요.\")\n",
        "    else:\n",
        "        print(\"100보다 크군요.\")\n",
        "else:\n",
        "    print(\"50보다 작군요.\")"
      ],
      "metadata": {
        "id": "BKouSbPijFNr"
      },
      "execution_count": null,
      "outputs": []
    },
    {
      "cell_type": "code",
      "source": [
        "score = int(input(\"점수를 입력하세요 : \"))\n",
        "if score >= 90 :\n",
        "    print(\"A\")\n",
        "elif score >= 80 :\n",
        "    print(\"B\")\n",
        "elif score >= 70 :\n",
        "    print(\"C\")\n",
        "elif score >= 60 :\n",
        "    print(\"D\")\n",
        "else :\n",
        "    print(\"F\")\n",
        "print(\"학점입니다. ^^\")"
      ],
      "metadata": {
        "id": "JODAxaXDjPX6"
      },
      "execution_count": null,
      "outputs": []
    },
    {
      "cell_type": "markdown",
      "source": [
        "# 반복문"
      ],
      "metadata": {
        "id": "Rneb4nf6jyen"
      }
    },
    {
      "cell_type": "markdown",
      "source": [
        "## for"
      ],
      "metadata": {
        "id": "del47Y75nSQ7"
      }
    },
    {
      "cell_type": "code",
      "source": [
        "print(\"반복문 for를 공부중입니다.\")\n",
        "print(\"반복문 for를 공부중입니다.\")\n",
        "print(\"반복문 for를 공부중입니다.\")"
      ],
      "metadata": {
        "id": "wMkRWp8yjz7z"
      },
      "execution_count": null,
      "outputs": []
    },
    {
      "cell_type": "code",
      "source": [
        "for i in range(0, 3, 1) :\n",
        "     print(\"반복문 for을 공부중입니다.\")"
      ],
      "metadata": {
        "id": "Eo8OuvtFker7"
      },
      "execution_count": null,
      "outputs": []
    },
    {
      "cell_type": "code",
      "source": [
        "for i in range(0, 3, 1) :\n",
        "     print(\"%d: 반복문 for을 공부중입니다.\" % i)"
      ],
      "metadata": {
        "id": "0j6oYx20lKUW"
      },
      "execution_count": null,
      "outputs": []
    },
    {
      "cell_type": "code",
      "source": [
        "print(\"구구단을 외자~\")\n",
        "\n",
        "for i in range(1, 10, 1) :\n",
        "  for k in range(1, 10, 1) :\n",
        "     print(\"%d x %d = %d\" % (i, k, (i*k)))"
      ],
      "metadata": {
        "id": "fwXfmApZltJ6"
      },
      "execution_count": null,
      "outputs": []
    },
    {
      "cell_type": "markdown",
      "source": [
        "## while"
      ],
      "metadata": {
        "id": "W8g4qlwKnY5U"
      }
    },
    {
      "cell_type": "code",
      "source": [
        "i = 0\n",
        "while i < 3 :\n",
        "  print(\"%d: 반복문 while을 공부중입니다.\" % i)\n",
        "  i = i + 1"
      ],
      "metadata": {
        "id": "X4w_0FhMnc5x"
      },
      "execution_count": null,
      "outputs": []
    },
    {
      "cell_type": "code",
      "source": [
        "while True:\n",
        "  print(\"무한 반복입니다.\")\n",
        "# 실행시 무한 반복하므로 왼쪽의 ㅁ를 눌러 중지해주세요.\n",
        "# 누르시면 잠시후 멈춥니다.\n",
        "# 다만 실행시 출력문이 길어지니 실행 안시키시는게 좋습니다!!"
      ],
      "metadata": {
        "id": "YCC9i4IfoTf6"
      },
      "execution_count": null,
      "outputs": []
    },
    {
      "cell_type": "code",
      "source": [
        "## break"
      ],
      "metadata": {
        "id": "2nJBN-HGHVQ8"
      },
      "execution_count": null,
      "outputs": []
    },
    {
      "cell_type": "code",
      "source": [
        "for i in range(1, 100, 1):\n",
        "  print(\"%d 번째 반복 중입니다.\" % i)\n",
        "  break"
      ],
      "metadata": {
        "id": "EWBR9uuTpCQ6"
      },
      "execution_count": null,
      "outputs": []
    },
    {
      "cell_type": "code",
      "source": [
        "## continue"
      ],
      "metadata": {
        "id": "NMtq4z8ZHW8c"
      },
      "execution_count": null,
      "outputs": []
    },
    {
      "cell_type": "code",
      "source": [
        "for i in range(1, 5, 1):\n",
        "  if i == 3:\n",
        "    continue\n",
        "  print(\"%d 번째 반복 중입니다.\" % i)"
      ],
      "metadata": {
        "id": "kOntj9bDqUxr"
      },
      "execution_count": null,
      "outputs": []
    },
    {
      "cell_type": "markdown",
      "source": [
        "# 주석"
      ],
      "metadata": {
        "id": "mPE2EeH1nUlG"
      }
    },
    {
      "cell_type": "code",
      "source": [
        "# 주석을 다는 방법 첫번째 입니다.\n",
        "print(\"조금만 더 파이팅입니다!!\")"
      ],
      "metadata": {
        "id": "DhGA9Ji37GYf"
      },
      "execution_count": null,
      "outputs": []
    },
    {
      "cell_type": "code",
      "source": [
        "'''\n",
        "이런 방식을 사용하면\n",
        "여러 줄을 주석으로 처리할 수 있습니다.\n",
        "'''\n",
        "print(\"주석 처리 확인\")"
      ],
      "metadata": {
        "id": "oWGIm8pP7QRy"
      },
      "execution_count": null,
      "outputs": []
    },
    {
      "cell_type": "code",
      "source": [
        "\"\"\"\n",
        "이런 방식을 사용하면\n",
        "여러 줄을 주석으로 처리할 수 있습니다.\n",
        "\"\"\"\n",
        "print(\"주석 처리 확인\")"
      ],
      "metadata": {
        "id": "rZG26GsF7SDR"
      },
      "execution_count": null,
      "outputs": []
    },
    {
      "cell_type": "markdown",
      "source": [
        "# 리스트"
      ],
      "metadata": {
        "id": "4e_niTDN96iQ"
      }
    },
    {
      "cell_type": "code",
      "source": [
        "arr = [1,2,3,4,5]\n",
        "print(arr)"
      ],
      "metadata": {
        "id": "ej5KhE5C95ki"
      },
      "execution_count": null,
      "outputs": []
    },
    {
      "cell_type": "code",
      "source": [
        "arr1 = [1,2,3,4]\n",
        "arr2 = [5,6,7,8]\n",
        "print(arr1 + arr2)"
      ],
      "metadata": {
        "id": "4QymgVKy-XDC"
      },
      "execution_count": null,
      "outputs": []
    },
    {
      "cell_type": "code",
      "source": [
        "arr = [1,2,3]\n",
        "arr.append(4)\n",
        "print(arr)"
      ],
      "metadata": {
        "id": "Ks_S2xZY_Bmy"
      },
      "execution_count": null,
      "outputs": []
    },
    {
      "cell_type": "code",
      "source": [
        "arr1 = [1,2,3,4]\n",
        "print(arr[2])"
      ],
      "metadata": {
        "id": "wsPVm04o_xoT"
      },
      "execution_count": null,
      "outputs": []
    },
    {
      "cell_type": "code",
      "source": [
        "arr1 = [1,2,3,4]\n",
        "print(arr[-1])\n",
        "print(arr[-3])"
      ],
      "metadata": {
        "id": "4aWQVCPNANMT"
      },
      "execution_count": null,
      "outputs": []
    },
    {
      "cell_type": "code",
      "source": [
        "arr1 = [1,2,3,4]\n",
        "print(arr[1:3])"
      ],
      "metadata": {
        "id": "lVgOQGKUAh3D"
      },
      "execution_count": null,
      "outputs": []
    },
    {
      "cell_type": "code",
      "source": [
        "arr = [1,2,3,4]\n",
        "arr[1] = 5\n",
        "print(arr)"
      ],
      "metadata": {
        "id": "S8DvWqBSBMsC"
      },
      "execution_count": null,
      "outputs": []
    },
    {
      "cell_type": "code",
      "source": [
        "arr = [1,2,3,4]\n",
        "arr.insert(1, 7)\n",
        "print(arr)"
      ],
      "metadata": {
        "id": "B3BSrcJGBv0T"
      },
      "execution_count": null,
      "outputs": []
    },
    {
      "cell_type": "code",
      "source": [
        "arr = [1,2,3,4]\n",
        "arr.remove(2)\n",
        "print(arr)"
      ],
      "metadata": {
        "id": "SPXz-354CNdS"
      },
      "execution_count": null,
      "outputs": []
    }
  ]
}
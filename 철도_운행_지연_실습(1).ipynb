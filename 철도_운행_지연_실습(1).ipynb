{
  "nbformat": 4,
  "nbformat_minor": 0,
  "metadata": {
    "colab": {
      "provenance": []
    },
    "kernelspec": {
      "name": "python3",
      "display_name": "Python 3"
    },
    "language_info": {
      "name": "python"
    }
  },
  "cells": [
    {
      "cell_type": "code",
      "execution_count": null,
      "metadata": {
        "id": "hHnmemw8cPUb"
      },
      "outputs": [],
      "source": [
        "# 운행 정보 입력 (실제 상황에 따라 수정 가능)\n",
        "열차번호 = \"KTX 103\"\n",
        "출발역 = \"부산\"\n",
        "도착역 = \"서울\"\n",
        "지연시간 = 7  # 단위: 분\n",
        "\n",
        "# 조건문으로 메시지 생성\n",
        "if 지연시간 >= 5:\n",
        "    메시지 = f\"[{열차번호}] {출발역}발 {도착역}행 열차가 {지연시간}분 지연되고 있습니다. 이용에 참고 바랍니다.\"\n",
        "else:\n",
        "    메시지 = f\"[{열차번호}] 정상 운행 중입니다.\"\n",
        "\n",
        "print(메시지)"
      ]
    }
  ]
}
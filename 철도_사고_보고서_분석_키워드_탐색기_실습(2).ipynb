{
  "nbformat": 4,
  "nbformat_minor": 0,
  "metadata": {
    "colab": {
      "provenance": []
    },
    "kernelspec": {
      "name": "python3",
      "display_name": "Python 3"
    },
    "language_info": {
      "name": "python"
    }
  },
  "cells": [
    {
      "cell_type": "code",
      "execution_count": null,
      "metadata": {
        "id": "wKUrj7tgcokp"
      },
      "outputs": [],
      "source": [
        "import re\n",
        "import pandas as pd\n",
        "from IPython.display import display  # Colab/Jupyter에서 보기 좋게 출력\n",
        "\n",
        "# 가상의 사고 보고서 리스트\n",
        "보고서 = [\n",
        "    \"2025년 3월 4일, 수서고속선 상행선에서 차량 고장으로 인해 17분 지연 발생.\",\n",
        "    \"2025년 4월 11일, 경의중앙선 전기 이상으로 23분 지연. 승객 불편 신고 다수 접수.\",\n",
        "    \"2025년 5월 2일, 영동선에서 기관사 부주의로 정차 지연 10분 발생.\"\n",
        "]\n",
        "\n",
        "# 키워드 리스트\n",
        "# 추가및 삭제 가능\n",
        "키워드 = ['고장', '지연', '신고', '불편', '정차']\n",
        "\n",
        "# 키워드 탐지 결과 저장\n",
        "결과 = []\n",
        "\n",
        "for idx, 문장 in enumerate(보고서):\n",
        "    해당 = {}\n",
        "    해당['보고서번호'] = f'R{idx+1}'\n",
        "    해당['본문'] = 문장\n",
        "    for kw in 키워드:\n",
        "        해당[kw] = len(re.findall(kw, 문장))\n",
        "    결과.append(해당)\n",
        "\n",
        "# 데이터프레임 생성\n",
        "df = pd.DataFrame(결과)\n",
        "\n",
        "# 긴 텍스트가 잘리지 않도록 설정\n",
        "pd.set_option('display.max_colwidth', None)\n",
        "\n",
        "# 보기 좋은 표 형태로 출력\n",
        "display(df)\n"
      ]
    }
  ]
}